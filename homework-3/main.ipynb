{
  "cells": [
    {
      "cell_type": "markdown",
      "metadata": {
        "id": "5W1f3O2r7-5u"
      },
      "source": [
        "# Python\n",
        "\n",
        "* Целая куча упражнений на типы данных\\операторы и функции\n",
        "\n",
        "https://www.w3resource.com/python-exercises/"
      ]
    },
    {
      "cell_type": "markdown",
      "metadata": {
        "id": "ZHddAJ4I7-5v"
      },
      "source": [
        "Типы данных:\n",
        "* Числа (7382, 3.14, 3+4j, Decimal, Fraction)\n",
        "* Строки ('net', \"your's\", u'радость')\n",
        "* Списки ([1, [2, 'three'], 4])\n",
        "* Словари ({'Alex': 2, 'Brian': 4})\n",
        "* Кортежи ('Leo', 21.7, 'single')\n",
        "* Множества (set(1,2,3), {'a', 'b', 'c'})\n",
        "* Файлы (open('myfile', 'r'))"
      ]
    },
    {
      "cell_type": "markdown",
      "metadata": {
        "id": "UKn_wHVK7-5v"
      },
      "source": [
        "1. Склеить 3 подстроки \"ada\", \"lovelace\", \"was considered the world's first computer programmer.\". Первые две строки сделать с большой буквы.  (★☆☆)\n"
      ]
    },
    {
      "cell_type": "code",
      "execution_count": 1,
      "metadata": {
        "id": "jRBB73ve7-5w"
      },
      "outputs": [
        {
          "data": {
            "text/plain": [
              "\"Ada Lovelace was considered the world's first computer programmer.\""
            ]
          },
          "execution_count": 1,
          "metadata": {},
          "output_type": "execute_result"
        }
      ],
      "source": [
        "input = [\"ada\", \"lovelace\", \"was considered the world's first computer programmer.\"]\n",
        "\n",
        "\" \".join(map(lambda x, i: x.capitalize() if i < 2 else x, input, range(len(input))))"
      ]
    },
    {
      "cell_type": "markdown",
      "metadata": {
        "id": "SLC83wKC7-5x"
      },
      "source": [
        "2. Удаление лишних пробельных символов справа, слева, с обоих сторон  (☆☆☆)"
      ]
    },
    {
      "cell_type": "code",
      "execution_count": 2,
      "metadata": {
        "id": "TzYAeuH87-5y"
      },
      "outputs": [
        {
          "data": {
            "text/plain": [
              "('    ada', 'ada    ', 'ada')"
            ]
          },
          "execution_count": 2,
          "metadata": {},
          "output_type": "execute_result"
        }
      ],
      "source": [
        "input = \"    ada    \"\n",
        "\n",
        "output1 = input.rstrip()\n",
        "output2 = input.lstrip()\n",
        "output3 = input.strip()\n",
        "\n",
        "(output1, output2, output3)"
      ]
    },
    {
      "cell_type": "markdown",
      "metadata": {
        "id": "CDNdDtgf7-5y"
      },
      "source": [
        "3. Найти первое вхождение в строку подстроки (☆☆☆)"
      ]
    },
    {
      "cell_type": "code",
      "execution_count": 3,
      "metadata": {
        "colab": {
          "base_uri": "https://localhost:8080/"
        },
        "id": "UUcgKgMU7-5z",
        "outputId": "931ecac1-cdc8-44f7-b160-f1c851833e2d"
      },
      "outputs": [
        {
          "data": {
            "text/plain": [
              "7"
            ]
          },
          "execution_count": 3,
          "metadata": {},
          "output_type": "execute_result"
        }
      ],
      "source": [
        "s1=\"But if you stick with me, I’m gonna accomplish great things, Morty, and you’re gonna be part of ’em.\"\n",
        "s2=\"you\"\n",
        "\n",
        "s1.find(s2)"
      ]
    },
    {
      "cell_type": "markdown",
      "metadata": {
        "id": "ucfkW-My7-53"
      },
      "source": [
        "* isdigit - состоит ли строка из цифр;\n",
        "* isalpha - состоит ли строка из букв;\n",
        "* isalnum - состоит ли строка из цифр или букв;\n",
        "* islower - состоит ли строка из символов в нижнем регистре;\n",
        "* isupper - состоит ли строка из символов в верхнем регистре;\n",
        "* istitle - начинаются ли слова в строке с заглавной буквы."
      ]
    },
    {
      "cell_type": "markdown",
      "metadata": {
        "id": "glYpHxe17-53"
      },
      "source": [
        "4. Разбить строку по разделителю (☆☆☆)"
      ]
    },
    {
      "cell_type": "code",
      "execution_count": 4,
      "metadata": {
        "id": "eQdWkDj87-54"
      },
      "outputs": [
        {
          "data": {
            "text/plain": [
              "['Holy',\n",
              " 'cow,',\n",
              " 'Rick!',\n",
              " 'I',\n",
              " 'didn’t',\n",
              " 'know',\n",
              " 'hanging',\n",
              " 'out',\n",
              " 'with',\n",
              " 'you',\n",
              " 'was',\n",
              " 'making',\n",
              " 'me',\n",
              " 'smarter!']"
            ]
          },
          "execution_count": 4,
          "metadata": {},
          "output_type": "execute_result"
        }
      ],
      "source": [
        "s1=\"Holy#cow,#Rick!#I#didn’t#know#hanging#out#with#you#was#making#me#smarter!\"\n",
        "\n",
        "output = s1.split(\"#\")\n",
        "\n",
        "output"
      ]
    },
    {
      "cell_type": "markdown",
      "metadata": {
        "id": "ZYvWj__67-54"
      },
      "source": [
        "5. Полученный массив строк склеить через пробел (★☆☆)"
      ]
    },
    {
      "cell_type": "code",
      "execution_count": 5,
      "metadata": {
        "id": "FYahPQbj7-54"
      },
      "outputs": [
        {
          "data": {
            "text/plain": [
              "'Holy cow, Rick! I didn’t know hanging out with you was making me smarter!'"
            ]
          },
          "execution_count": 5,
          "metadata": {},
          "output_type": "execute_result"
        }
      ],
      "source": [
        "\" \".join(output)"
      ]
    },
    {
      "cell_type": "markdown",
      "metadata": {
        "id": "gBWcMRgA7-54"
      },
      "source": [
        "6. Вывести данные из словаря в три строки в виде \"NAME (age AGE) is a JOB\" (★☆☆)\n",
        "\n",
        "(hint: .format())"
      ]
    },
    {
      "cell_type": "code",
      "execution_count": 6,
      "metadata": {
        "id": "DYRA4y_b7-55"
      },
      "outputs": [
        {
          "name": "stdout",
          "output_type": "stream",
          "text": [
            "Ann (age 29) is a Artist\n",
            "Leo (age 54) is a Programmer\n",
            "Tiffany (age 43) is a Shop Assistant\n"
          ]
        }
      ],
      "source": [
        "personal_data = {1: (\"Ann\", 29, \"Artist\"), \n",
        "               2: (\"Leo\", 54, \"Programmer\"), \n",
        "               3: (\"Tiffany\", 43, \"Shop Assistant\")}\n",
        "\n",
        "output = \"\\n\".join(map(lambda x: \"{0} (age {1}) is a {2}\".format(*x), personal_data.values()))\n",
        "\n",
        "print(output)"
      ]
    },
    {
      "cell_type": "markdown",
      "metadata": {
        "id": "i9B4DWOZ7-55"
      },
      "source": [
        "7. Требуется определить, является ли данный год високосным. (год является високосным, если его номер кратен 4, но не кратен 100, а также если он кратен 400.)  (★★☆)\n",
        "\n",
        "Входные данные: Вводится единственное число - номер года (целое, положительное, не превышает 30000).\n",
        "\n",
        "Выходные данные: Требуется вывести слово YES, если год является високосным и NO - в противном случае."
      ]
    },
    {
      "cell_type": "code",
      "execution_count": 7,
      "metadata": {
        "id": "tnB75I627-55"
      },
      "outputs": [
        {
          "name": "stdout",
          "output_type": "stream",
          "text": [
            "2000 - YES\n",
            "2005 - NO\n",
            "2020 - YES\n",
            "2022 - NO\n",
            "2100 - NO\n"
          ]
        }
      ],
      "source": [
        "def is_leap_year(year: int):\n",
        "  if year % 4 == 0 and year % 100 != 0 or year % 400 == 0:\n",
        "    return \"YES\"\n",
        "  else:\n",
        "    return \"NO\"\n",
        "\n",
        "years = [2000, 2005, 2020, 2022, 2100]\n",
        "\n",
        "output = \"\\n\".join(map(lambda year: f\"{year} - {is_leap_year(year)}\", years))\n",
        "\n",
        "print(output)"
      ]
    },
    {
      "cell_type": "markdown",
      "metadata": {
        "id": "K_PZ2DEf7-55"
      },
      "source": [
        "8. Закодируйте каждый элемент списка слов числом, результат сопоставления (слово-число) поместите в словарь.  (★☆☆)"
      ]
    },
    {
      "cell_type": "code",
      "execution_count": 8,
      "metadata": {
        "id": "SPs9JyRF7-56"
      },
      "outputs": [
        {
          "data": {
            "text/plain": [
              "{'Not': 0, 'my': 1, 'cup': 2, 'of': 3, 'tea': 4}"
            ]
          },
          "execution_count": 8,
          "metadata": {},
          "output_type": "execute_result"
        }
      ],
      "source": [
        "words = ['Not', 'my', 'cup', 'of', 'tea']\n",
        "\n",
        "{word: i for i,word in enumerate(words)}"
      ]
    },
    {
      "cell_type": "markdown",
      "metadata": {
        "id": "VpAE38WK7-56"
      },
      "source": [
        "9. Удалить второй элемент из списка по индексу\\по значению  (★☆☆)"
      ]
    },
    {
      "cell_type": "code",
      "execution_count": 9,
      "metadata": {
        "id": "1R9l4Ftu7-56"
      },
      "outputs": [
        {
          "name": "stdout",
          "output_type": "stream",
          "text": [
            "['border collie', 'labrador retriever']\n",
            "['border collie', 'labrador retriever']\n"
          ]
        }
      ],
      "source": [
        "dogs = ['border collie', 'australian cattle dog', 'labrador retriever']\n",
        "\n",
        "output1 = dogs.copy()\n",
        "output2 = dogs.copy()\n",
        "\n",
        "output1.pop(1)\n",
        "output2.remove('australian cattle dog')\n",
        "\n",
        "print(output1)\n",
        "print(output2)"
      ]
    },
    {
      "cell_type": "markdown",
      "metadata": {
        "id": "OSHCsLjY7-56"
      },
      "source": [
        "10. Вывести срез списка с 3 по 5 элемент включительно и все слова перевести в верхний регистр (★☆☆)"
      ]
    },
    {
      "cell_type": "code",
      "execution_count": 10,
      "metadata": {
        "id": "JGma4FNP7-56"
      },
      "outputs": [
        {
          "data": {
            "text/plain": [
              "['AUSTRALIAN', 'CATTLE', 'DOG']"
            ]
          },
          "execution_count": 10,
          "metadata": {},
          "output_type": "execute_result"
        }
      ],
      "source": [
        "dogs = ['border', 'collie', 'australian', 'cattle', 'dog', 'labrador', 'retriever']\n",
        "\n",
        "output = list(map(lambda dog: dog.upper(), dogs[2:5]))\n",
        "\n",
        "output"
      ]
    },
    {
      "cell_type": "markdown",
      "metadata": {
        "id": "xvQNspgc7-57"
      },
      "source": [
        "11. Словарь словарей. Вывести из словаря для каждого питомца его имя, породу, имя владельца, и наличие прививки. Строку вывода формировать через .format() (★☆☆)"
      ]
    },
    {
      "cell_type": "code",
      "execution_count": 11,
      "metadata": {
        "id": "9T8ZTmf87-57"
      },
      "outputs": [
        {
          "name": "stdout",
          "output_type": "stream",
          "text": [
            "name: willie, kind: dog, vaccinated: True, owner's name: eric\n",
            "name: walter, kind: cockroach, vaccinated: False, owner's name: eric\n",
            "name: peso, kind: dog, vaccinated: True, owner's name: chloe\n"
          ]
        }
      ],
      "source": [
        "pets = {'willie': {'kind': 'dog', 'owner': 'eric', 'vaccinated': True},\n",
        "        'walter': {'kind': 'cockroach', 'owner': 'eric', 'vaccinated': False},\n",
        "        'peso': {'kind': 'dog', 'owner': 'chloe', 'vaccinated': True},\n",
        "        }\n",
        "\n",
        "output = \"\\n\".join(map(lambda pet: \"name: {0}, kind: {1[kind]}, vaccinated: {1[vaccinated]}, owner's name: {1[owner]}\".format(*pet), pets.items()))\n",
        "\n",
        "print(output)"
      ]
    },
    {
      "cell_type": "markdown",
      "metadata": {
        "id": "Bah9sBea7-57"
      },
      "source": [
        "12. Проверить является ли множество подмножеством другого множества  (★☆☆)"
      ]
    },
    {
      "cell_type": "code",
      "execution_count": 12,
      "metadata": {
        "id": "LvJCOUVy7-57"
      },
      "outputs": [
        {
          "data": {
            "text/plain": [
              "True"
            ]
          },
          "execution_count": 12,
          "metadata": {},
          "output_type": "execute_result"
        }
      ],
      "source": [
        "a=set([2, 5, 6])\n",
        "b=set([2, 4, 8, 3, 5, 6])\n",
        "\n",
        "a.issubset(b)"
      ]
    },
    {
      "cell_type": "markdown",
      "metadata": {
        "id": "sfVwYMPL7-57"
      },
      "source": [
        "13. Объединить несколько множеств (★☆☆)"
      ]
    },
    {
      "cell_type": "code",
      "execution_count": 13,
      "metadata": {
        "id": "hrKKF3kp7-58"
      },
      "outputs": [
        {
          "data": {
            "text/plain": [
              "{2, 3, 4, 5, 6, 8, 10, 35}"
            ]
          },
          "execution_count": 13,
          "metadata": {},
          "output_type": "execute_result"
        }
      ],
      "source": [
        "a=set([10, 35, 6, 5])\n",
        "b=set([2, 4, 8, 3, 5, 6, 35])\n",
        "c=set([4, 5, 35])\n",
        "\n",
        "a.union(b).union(c)"
      ]
    },
    {
      "cell_type": "markdown",
      "metadata": {
        "id": "bI5lcYGM7-58"
      },
      "source": [
        "14. Посчитать пересечение множества b с остальными из предыдущего задания  (★★☆)\n",
        "\n",
        "(hint: set.intersection(other, ...) (или set & other &) )"
      ]
    },
    {
      "cell_type": "code",
      "execution_count": 14,
      "metadata": {
        "id": "ZpsU-iaT7-58"
      },
      "outputs": [
        {
          "data": {
            "text/plain": [
              "{5, 35}"
            ]
          },
          "execution_count": 14,
          "metadata": {},
          "output_type": "execute_result"
        }
      ],
      "source": [
        "b.intersection(a, c)"
      ]
    },
    {
      "cell_type": "markdown",
      "metadata": {
        "id": "uVuXAMxR7-58"
      },
      "source": [
        "15. Вывести множество из элементов, встречающихся в одном множестве, но не встречающиеся в обоих. (★★☆)\n",
        "\n",
        "(hint: .symmetric_difference())"
      ]
    },
    {
      "cell_type": "code",
      "execution_count": 15,
      "metadata": {
        "id": "EmdVX2Vn7-58"
      },
      "outputs": [
        {
          "data": {
            "text/plain": [
              "{1, 2, 6, 7}"
            ]
          },
          "execution_count": 15,
          "metadata": {},
          "output_type": "execute_result"
        }
      ],
      "source": [
        "a=set([1, 2, 3, 4, 5])\n",
        "b=set([3, 4, 5, 6, 7])\n",
        "\n",
        "a.symmetric_difference(b)"
      ]
    },
    {
      "cell_type": "markdown",
      "metadata": {
        "id": "IzGjqSPG7-58"
      },
      "source": [
        "16. Предположим, есть файл с данными клиентов. В качестве простого примера воьзьмем txt-файл(нужно создать файл с предложенным/другим содержанием самостоятельно) следующего содержания:\n",
        "\n",
        "    lastname,age,debt,occupation\n",
        "    \n",
        "    Adrianov,25,30000,artist\n",
        "    \n",
        "    Нужно считать файл data/credit_sample.txt.\n",
        "    Сделать словарь вида:\n",
        "        {lastname: (age,debt,occupation)}\n",
        "    \n",
        "    Посчитать сколько уникальных профессий получилось в словаре.\n",
        "    \n",
        "    Результат записать в json (★★★)"
      ]
    },
    {
      "cell_type": "code",
      "execution_count": 16,
      "metadata": {
        "id": "-Tmno7Y27-59"
      },
      "outputs": [
        {
          "data": {
            "text/plain": [
              "'[\"programmer\", \"salesman\", \"artist\", \"president\"]'"
            ]
          },
          "execution_count": 16,
          "metadata": {},
          "output_type": "execute_result"
        }
      ],
      "source": [
        "import json\n",
        "\n",
        "file = open(\"data/credit_sample.txt\", \"r\")\n",
        "keys = file.readline()\n",
        "values = file.readlines()\n",
        "file.close()\n",
        "\n",
        "normalized_values = list(map(lambda line: line.replace('\\n', '').split(','), values)) \n",
        "credit_data = {values[0]: (values[1], values[2], values[3]) for values in normalized_values}\n",
        "\n",
        "output = set(map(lambda x: x[2], credit_data.values()))\n",
        "\n",
        "json.dumps(list(output))"
      ]
    },
    {
      "cell_type": "markdown",
      "metadata": {
        "id": "L-rqo8bV7-59"
      },
      "source": [
        "### os, sys, datetime"
      ]
    },
    {
      "cell_type": "markdown",
      "metadata": {
        "id": "d_Xl0_Sn7-5-"
      },
      "source": [
        "17. Получить список файлов в папке gifs/ и оставить только файлы с расширением .gif (★★☆)"
      ]
    },
    {
      "cell_type": "code",
      "execution_count": 17,
      "metadata": {
        "id": "BbX1vHg27-5-"
      },
      "outputs": [
        {
          "data": {
            "text/plain": [
              "['1.gif', '3.gif']"
            ]
          },
          "execution_count": 17,
          "metadata": {},
          "output_type": "execute_result"
        }
      ],
      "source": [
        "import os\n",
        "\n",
        "file_names = os.listdir('./gifs')\n",
        "output = list(filter(lambda name: name.split('.')[-1] == 'gif', file_names))\n",
        "\n",
        "output"
      ]
    },
    {
      "cell_type": "markdown",
      "metadata": {
        "id": "ri_VgtjM7-5-"
      },
      "source": [
        "18. Создать папку с названием temp и удалить её (★☆☆)"
      ]
    },
    {
      "cell_type": "code",
      "execution_count": 18,
      "metadata": {
        "id": "om3C97ME7-5-"
      },
      "outputs": [
        {
          "name": "stdout",
          "output_type": "stream",
          "text": [
            "directories: data,gifs,main.ipynb,temp\n"
          ]
        }
      ],
      "source": [
        "os.mkdir('temp')\n",
        "print(f\"directories: {','.join(os.listdir())}\")\n",
        "os.rmdir('temp')"
      ]
    },
    {
      "cell_type": "markdown",
      "metadata": {
        "id": "6N333x6h7-5-"
      },
      "source": [
        "19. Вывести переменные среды (★☆☆)\n",
        "\n",
        "(hint: environ)"
      ]
    },
    {
      "cell_type": "code",
      "execution_count": 19,
      "metadata": {
        "id": "8zt8jasf7-5-"
      },
      "outputs": [
        {
          "data": {
            "text/plain": [
              "'Windows_NT'"
            ]
          },
          "execution_count": 19,
          "metadata": {},
          "output_type": "execute_result"
        }
      ],
      "source": [
        "os.environ.get('OS')"
      ]
    },
    {
      "cell_type": "markdown",
      "metadata": {
        "id": "s23izIbV7-5-"
      },
      "source": [
        "20. Как игнорировать warrnings?"
      ]
    },
    {
      "cell_type": "code",
      "execution_count": 20,
      "metadata": {},
      "outputs": [
        {
          "name": "stderr",
          "output_type": "stream",
          "text": [
            "C:\\Users\\nikit\\AppData\\Local\\Temp\\ipykernel_30684\\3276538275.py:4: DeprecationWarning: deprecated\n",
            "  warnings.warn('deprecated', DeprecationWarning)\n"
          ]
        }
      ],
      "source": [
        "import warnings\n",
        "\n",
        "def make_warning(): \n",
        "  warnings.warn('deprecated', DeprecationWarning)\n",
        "\n",
        "warnings.filterwarnings(\"default\")\n",
        "\n",
        "make_warning()\n",
        "\n",
        "warnings.filterwarnings(\"ignore\")\n",
        "\n",
        "make_warning()"
      ]
    },
    {
      "cell_type": "markdown",
      "metadata": {
        "id": "XE6k7cay7-5-"
      },
      "source": [
        "* Про datetime и timedelta \n",
        "\n",
        "https://www.guru99.com/date-time-and-datetime-classes-in-python.html"
      ]
    },
    {
      "cell_type": "markdown",
      "metadata": {
        "id": "SzCH8oZO7-5-"
      },
      "source": [
        "21. Вывести сегодняшнюю, вчерашнюю и завтрашнюю дату (☆☆☆)"
      ]
    },
    {
      "cell_type": "code",
      "execution_count": 21,
      "metadata": {
        "id": "J4duLqPc7-5_"
      },
      "outputs": [
        {
          "data": {
            "text/plain": [
              "(datetime.date(2022, 10, 30),\n",
              " datetime.date(2022, 10, 29),\n",
              " datetime.date(2022, 10, 31))"
            ]
          },
          "execution_count": 21,
          "metadata": {},
          "output_type": "execute_result"
        }
      ],
      "source": [
        "from datetime import date, datetime, timedelta\n",
        "\n",
        "today = date.today()\n",
        "yesterday = today - timedelta(days=1)\n",
        "tomorrow = today + timedelta(days=1)\n",
        "\n",
        "(today, yesterday, tomorrow)"
      ]
    },
    {
      "cell_type": "markdown",
      "metadata": {
        "id": "MLqVlaHK7-5_"
      },
      "source": [
        "22. Вывести день недели сегодняшней даты (★☆☆)"
      ]
    },
    {
      "cell_type": "code",
      "execution_count": 22,
      "metadata": {
        "id": "G8SGml7y7-5_"
      },
      "outputs": [
        {
          "data": {
            "text/plain": [
              "'Sunday'"
            ]
          },
          "execution_count": 22,
          "metadata": {},
          "output_type": "execute_result"
        }
      ],
      "source": [
        "date.today().strftime(\"%A\")"
      ]
    },
    {
      "cell_type": "markdown",
      "metadata": {
        "id": "REha1tAt7-5_"
      },
      "source": [
        "23. Получить список дат за предыдущую неделю (★★☆)"
      ]
    },
    {
      "cell_type": "code",
      "execution_count": 23,
      "metadata": {
        "id": "59rDsO2X7-5_"
      },
      "outputs": [
        {
          "data": {
            "text/plain": [
              "[datetime.date(2022, 10, 17),\n",
              " datetime.date(2022, 10, 18),\n",
              " datetime.date(2022, 10, 19),\n",
              " datetime.date(2022, 10, 20),\n",
              " datetime.date(2022, 10, 21),\n",
              " datetime.date(2022, 10, 22),\n",
              " datetime.date(2022, 10, 23)]"
            ]
          },
          "execution_count": 23,
          "metadata": {},
          "output_type": "execute_result"
        }
      ],
      "source": [
        "starting_last_week = date.today() - timedelta(days=date.today().weekday() + 7)\n",
        "\n",
        "[starting_last_week + timedelta(days=i) for i in range(7)]"
      ]
    },
    {
      "cell_type": "markdown",
      "metadata": {
        "id": "eGzHWYoJ7-5_"
      },
      "source": [
        "24. Вывести дату с часами и минутами, отформатировать в формате: 01.12.2019 00:12:54 (★★☆)\n",
        "            \n",
        "(hint: now().strftime())"
      ]
    },
    {
      "cell_type": "code",
      "execution_count": 24,
      "metadata": {
        "id": "ERifWa0x7-5_"
      },
      "outputs": [
        {
          "data": {
            "text/plain": [
              "'30.10.2022 23:23:47'"
            ]
          },
          "execution_count": 24,
          "metadata": {},
          "output_type": "execute_result"
        }
      ],
      "source": [
        "datetime.now().strftime(\"%d.%m.%Y %H:%M:%S\")"
      ]
    },
    {
      "cell_type": "markdown",
      "metadata": {
        "id": "xtw6syHf7-5_"
      },
      "source": [
        "25. Исходя из текущей даты вычислить дату предыдущего понедельника (★★★)"
      ]
    },
    {
      "cell_type": "code",
      "execution_count": 25,
      "metadata": {
        "id": "2j3IO3nm7-6A"
      },
      "outputs": [
        {
          "data": {
            "text/plain": [
              "'Last Monday 17.10.2022'"
            ]
          },
          "execution_count": 25,
          "metadata": {},
          "output_type": "execute_result"
        }
      ],
      "source": [
        "last_monday = date.today() - timedelta(days=date.today().weekday() + 7)\n",
        "last_monday.strftime('Last %A %d.%m.%Y')"
      ]
    },
    {
      "cell_type": "markdown",
      "metadata": {
        "id": "erB0b_lQ7-6A"
      },
      "source": [
        "# Numpy"
      ]
    },
    {
      "cell_type": "markdown",
      "metadata": {
        "id": "PGAVDzpv7-6A"
      },
      "source": [
        "### numpy в картинках (реально лучший):\n",
        "\n",
        "https://jalammar.github.io/visual-numpy/"
      ]
    },
    {
      "cell_type": "code",
      "execution_count": 26,
      "metadata": {
        "id": "I2hMMh4J7-6A"
      },
      "outputs": [],
      "source": [
        "import numpy as np"
      ]
    },
    {
      "cell_type": "markdown",
      "metadata": {
        "id": "Zc2HN9ah7-6A"
      },
      "source": [
        "1. Задать нулевой вектор размером 10 (★☆☆)\n",
        "\n",
        "(hint: np.zeros)"
      ]
    },
    {
      "cell_type": "code",
      "execution_count": 27,
      "metadata": {
        "id": "Mo3_ncPr7-6A"
      },
      "outputs": [
        {
          "data": {
            "text/plain": [
              "array([0, 0, 0, 0, 0, 0, 0, 0, 0, 0])"
            ]
          },
          "execution_count": 27,
          "metadata": {},
          "output_type": "execute_result"
        }
      ],
      "source": [
        "np.zeros(10, dtype='int')"
      ]
    },
    {
      "cell_type": "markdown",
      "metadata": {
        "id": "zo6g4t_O7-6A"
      },
      "source": [
        "2. Как найти размер занимаемой памяти любым массивом (★☆☆)\n",
        "\n",
        "(hint: size, itemsize)"
      ]
    },
    {
      "cell_type": "code",
      "execution_count": 28,
      "metadata": {
        "id": "H4u2UL4R7-6A"
      },
      "outputs": [
        {
          "data": {
            "text/plain": [
              "'Memory size: 12'"
            ]
          },
          "execution_count": 28,
          "metadata": {},
          "output_type": "execute_result"
        }
      ],
      "source": [
        "x = np.array([123, 45, 6])\n",
        "f\"Memory size: {x.size * x.itemsize}\""
      ]
    },
    {
      "cell_type": "markdown",
      "metadata": {
        "id": "RgMlxewK7-6A"
      },
      "source": [
        "3. Создать вектор из 10 нулей, кроме пятого элемента, который равен 1 (★☆☆)"
      ]
    },
    {
      "cell_type": "code",
      "execution_count": 29,
      "metadata": {
        "id": "jiQkXc4O7-6A"
      },
      "outputs": [
        {
          "data": {
            "text/plain": [
              "array([0, 0, 0, 0, 1, 0, 0, 0, 0, 0])"
            ]
          },
          "execution_count": 29,
          "metadata": {},
          "output_type": "execute_result"
        }
      ],
      "source": [
        "vector = np.zeros(10, dtype='int', )\n",
        "vector[4] = 1\n",
        "vector"
      ]
    },
    {
      "cell_type": "markdown",
      "metadata": {
        "id": "kPEle2qT7-6B"
      },
      "source": [
        "4. Создать вектор от 10 до 50 включительно (★☆☆)\n",
        "\n",
        "(hint:np.arange)"
      ]
    },
    {
      "cell_type": "code",
      "execution_count": 30,
      "metadata": {
        "id": "fJnAkqW-7-6B"
      },
      "outputs": [
        {
          "data": {
            "text/plain": [
              "array([10, 11, 12, 13, 14, 15, 16, 17, 18, 19, 20, 21, 22, 23, 24, 25, 26,\n",
              "       27, 28, 29, 30, 31, 32, 33, 34, 35, 36, 37, 38, 39, 40, 41, 42, 43,\n",
              "       44, 45, 46, 47, 48, 49, 50])"
            ]
          },
          "execution_count": 30,
          "metadata": {},
          "output_type": "execute_result"
        }
      ],
      "source": [
        "np.arange(10, 51)"
      ]
    },
    {
      "cell_type": "markdown",
      "metadata": {
        "id": "9P1_c7se7-6B"
      },
      "source": [
        "5. Перевернуть вектор (первый элемент будет последним) (★☆☆)"
      ]
    },
    {
      "cell_type": "code",
      "execution_count": 31,
      "metadata": {
        "id": "nZ8mw8B67-6B"
      },
      "outputs": [
        {
          "data": {
            "text/plain": [
              "array([99, 98, 97, 96, 95, 94, 93, 92, 91, 90, 89, 88, 87, 86, 85, 84, 83,\n",
              "       82, 81, 80, 79, 78, 77, 76, 75, 74, 73, 72, 71, 70, 69, 68, 67, 66,\n",
              "       65, 64, 63, 62, 61, 60, 59, 58, 57, 56, 55, 54, 53, 52, 51, 50, 49,\n",
              "       48, 47, 46, 45, 44, 43, 42, 41, 40, 39, 38, 37, 36, 35, 34, 33, 32,\n",
              "       31, 30, 29, 28, 27, 26, 25, 24, 23, 22, 21, 20, 19, 18, 17, 16, 15,\n",
              "       14, 13, 12, 11, 10,  9,  8,  7,  6,  5,  4,  3,  2,  1,  0])"
            ]
          },
          "execution_count": 31,
          "metadata": {},
          "output_type": "execute_result"
        }
      ],
      "source": [
        "np.flip(np.arange(0, 100))"
      ]
    },
    {
      "cell_type": "markdown",
      "metadata": {
        "id": "431qEvN87-6B"
      },
      "source": [
        "6. Создать матрицу 3х3 с элементами от 0 до 8 (★☆☆)\n",
        "\n",
        "(hint: reshape)"
      ]
    },
    {
      "cell_type": "code",
      "execution_count": 32,
      "metadata": {
        "id": "b4A8JfF37-6B"
      },
      "outputs": [
        {
          "data": {
            "text/plain": [
              "array([[0, 1, 2],\n",
              "       [3, 4, 5],\n",
              "       [6, 7, 8]])"
            ]
          },
          "execution_count": 32,
          "metadata": {},
          "output_type": "execute_result"
        }
      ],
      "source": [
        "np.arange(0, 9).reshape((3, 3))"
      ]
    },
    {
      "cell_type": "markdown",
      "metadata": {
        "id": "PMb49oNH7-6B"
      },
      "source": [
        "7. Найти индексы не нулевых эемелентов в numpy array [1,2,0,0,4,0] (★☆☆)\n",
        "\n",
        "(hint: np.nonzero)"
      ]
    },
    {
      "cell_type": "code",
      "execution_count": 33,
      "metadata": {
        "id": "K8dAIKrt7-6B"
      },
      "outputs": [
        {
          "data": {
            "text/plain": [
              "(array([0, 1, 4], dtype=int64),)"
            ]
          },
          "execution_count": 33,
          "metadata": {},
          "output_type": "execute_result"
        }
      ],
      "source": [
        "input = np.array([1,2,0,0,4,0])\n",
        "input.nonzero()"
      ]
    },
    {
      "cell_type": "markdown",
      "metadata": {
        "id": "jmOnmP6b7-6B"
      },
      "source": [
        "8. Создать матрицу 10x10 array с рандомными числами и найти минимум, максимум и среднее (★☆☆)"
      ]
    },
    {
      "cell_type": "code",
      "execution_count": 34,
      "metadata": {
        "id": "PvbVEYkt7-6B"
      },
      "outputs": [
        {
          "data": {
            "text/plain": [
              "'min: 0, max: 96, average: 46.66'"
            ]
          },
          "execution_count": 34,
          "metadata": {},
          "output_type": "execute_result"
        }
      ],
      "source": [
        "input = np.random.randint(100, size=100)\n",
        "\n",
        "min = input.min()\n",
        "max = input.max()\n",
        "average = input.mean()\n",
        "\n",
        "f\"min: {min}, max: {max}, average: {average}\""
      ]
    },
    {
      "cell_type": "markdown",
      "metadata": {
        "id": "7Akk1awh7-6C"
      },
      "source": [
        "9. Создать матрицу 8x8 и заполнить 0 и 1 в стиле шахматной доски (★☆☆)\n",
        "\n",
        "(hint: array[::n])"
      ]
    },
    {
      "cell_type": "code",
      "execution_count": 35,
      "metadata": {
        "id": "825TezXL7-6C"
      },
      "outputs": [
        {
          "data": {
            "text/plain": [
              "array([[0, 1, 0, 1, 0, 1, 0, 1],\n",
              "       [1, 0, 1, 0, 1, 0, 1, 0],\n",
              "       [0, 1, 0, 1, 0, 1, 0, 1],\n",
              "       [1, 0, 1, 0, 1, 0, 1, 0],\n",
              "       [0, 1, 0, 1, 0, 1, 0, 1],\n",
              "       [1, 0, 1, 0, 1, 0, 1, 0],\n",
              "       [0, 1, 0, 1, 0, 1, 0, 1],\n",
              "       [1, 0, 1, 0, 1, 0, 1, 0]])"
            ]
          },
          "execution_count": 35,
          "metadata": {},
          "output_type": "execute_result"
        }
      ],
      "source": [
        "np.row_stack(([[0,1] * 4], [[1,0] * 4]) * 4)"
      ]
    },
    {
      "cell_type": "markdown",
      "metadata": {
        "id": "tPItbLuk7-6C"
      },
      "source": [
        "10. Нормализовать рандомную матрицу 5x5 (★☆☆)\n",
        "\n",
        "(hint: (x - mean) / std)"
      ]
    },
    {
      "cell_type": "code",
      "execution_count": 36,
      "metadata": {
        "id": "NxpOioEr7-6C"
      },
      "outputs": [
        {
          "data": {
            "text/plain": [
              "array([[0.06784711, 0.23288346, 0.11897991, 0.23022064, 0.35006888],\n",
              "       [0.08926862, 0.45642466, 0.02916239, 0.30981253, 0.11533181],\n",
              "       [0.10919465, 0.03817677, 0.3240967 , 0.20787088, 0.32066099],\n",
              "       [0.1780329 , 0.20660179, 0.22288364, 0.38843202, 0.00404965],\n",
              "       [0.09201744, 0.00452489, 0.28061991, 0.33956877, 0.28326899]])"
            ]
          },
          "execution_count": 36,
          "metadata": {},
          "output_type": "execute_result"
        }
      ],
      "source": [
        "x = np.random.random((5,5))\n",
        "\n",
        "x / x.sum(axis=1)[:,np.newaxis]"
      ]
    },
    {
      "cell_type": "markdown",
      "metadata": {
        "id": "rpnPFQiD7-6C"
      },
      "source": [
        "11. Найти общие элементы между двумя массивами\n",
        "\n",
        "(hint: np.intersect1d)"
      ]
    },
    {
      "cell_type": "code",
      "execution_count": 37,
      "metadata": {
        "id": "Om2KNfr57-6C"
      },
      "outputs": [
        {
          "name": "stdout",
          "output_type": "stream",
          "text": [
            "[65  7 31 97 82  3 49  8 30 99]\n",
            "[46 81 53 47  2  4 88 78 76 90]\n"
          ]
        },
        {
          "data": {
            "text/plain": [
              "array([], dtype=int32)"
            ]
          },
          "execution_count": 37,
          "metadata": {},
          "output_type": "execute_result"
        }
      ],
      "source": [
        "input1 = np.random.randint(100, size=10)\n",
        "input2 = np.random.randint(100, size=10)\n",
        "\n",
        "print(input1)\n",
        "print(input2)\n",
        "\n",
        "np.intersect1d(input1, input2)"
      ]
    },
    {
      "cell_type": "markdown",
      "metadata": {
        "id": "aqQ7cw7Z7-6C"
      },
      "source": [
        "12. Извлечь целую часть рандомного массива чисел различными способами (максимум 5) (★★☆)"
      ]
    },
    {
      "cell_type": "code",
      "execution_count": 38,
      "metadata": {
        "id": "km63zOAL7-6C"
      },
      "outputs": [
        {
          "name": "stdout",
          "output_type": "stream",
          "text": [
            "original: [56.22649082 68.15109754 46.76617193  1.35205783 52.41854687]\n",
            "1) [56. 68. 47.  1. 52.]\n",
            "2) [56. 68. 47.  1. 52.]\n",
            "3) [56. 68. 47.  1. 52.]\n",
            "4) [56. 68. 46.  1. 52.]\n",
            "5) [56. 68. 46.  1. 52.]\n",
            "6) [57. 69. 47.  2. 53.]\n",
            "7) [56. 68. 46.  1. 52.]\n"
          ]
        }
      ],
      "source": [
        "input = np.random.random(5) * 100\n",
        "\n",
        "print(f\"original: {input}\")\n",
        "\n",
        "print(f\"1) {input.round()}\")\n",
        "print(f\"2) {np.around(input)}\")\n",
        "print(f\"3) {np.rint(input)}\")\n",
        "print(f\"4) {np.fix(input)}\")\n",
        "print(f\"5) {np.floor(input)}\")\n",
        "print(f\"6) {np.ceil(input)}\")\n",
        "print(f\"7) {np.trunc(input)}\")\n"
      ]
    },
    {
      "cell_type": "markdown",
      "metadata": {
        "id": "f_rFnjH37-6C"
      },
      "source": [
        "13. Создать рандомный вектор размера 10 и отсортировать его (★★☆)"
      ]
    },
    {
      "cell_type": "code",
      "execution_count": 39,
      "metadata": {
        "id": "QfFtNYNg7-6C"
      },
      "outputs": [
        {
          "data": {
            "text/plain": [
              "array([10, 13, 18, 21, 24, 33, 55, 59, 61, 67])"
            ]
          },
          "execution_count": 39,
          "metadata": {},
          "output_type": "execute_result"
        }
      ],
      "source": [
        "input = np.random.randint(100, size=10)\n",
        "input.sort()\n",
        "input"
      ]
    },
    {
      "cell_type": "markdown",
      "metadata": {
        "id": "bJzpgOl37-6D"
      },
      "source": [
        "14. Проверить одинаковы ли два рандомных массива А и B (★★☆)\n",
        "\n",
        "(hint: np.allclose, np.array_equal)"
      ]
    },
    {
      "cell_type": "code",
      "execution_count": 40,
      "metadata": {
        "id": "6n303JJr7-6D"
      },
      "outputs": [
        {
          "name": "stdout",
          "output_type": "stream",
          "text": [
            "[0 1 3 3 0 1 4 0 0 1]\n",
            "[1 3 4 0 3 4 3 1 4 2]\n",
            "isEqual = False\n"
          ]
        }
      ],
      "source": [
        "input1 = np.random.randint(5, size=10)\n",
        "input2 = np.random.randint(5, size=10)\n",
        "\n",
        "print(input1)\n",
        "print(input2)\n",
        "print(f\"isEqual = {np.array_equal(input1, input2)}\")"
      ]
    },
    {
      "cell_type": "markdown",
      "metadata": {
        "id": "JoJglzhz7-6D"
      },
      "source": [
        "15. Создать рандомный ветор размером 10 и максимальный элемент заменить на -1 (★★☆)\n",
        "\n",
        "(hint: argmax)"
      ]
    },
    {
      "cell_type": "code",
      "execution_count": 41,
      "metadata": {
        "id": "e5mGRtnL7-6D"
      },
      "outputs": [
        {
          "name": "stdout",
          "output_type": "stream",
          "text": [
            "[0 8 9 0 7 5 6 3 3 4]\n",
            "[ 0  8 -1  0  7  5  6  3  3  4]\n"
          ]
        }
      ],
      "source": [
        "input = np.random.randint(10, size=10)\n",
        "print(input)\n",
        "\n",
        "input[input.argmax()] = -1\n",
        "print(input)"
      ]
    },
    {
      "cell_type": "markdown",
      "metadata": {
        "id": "mAGLVuFF7-6D"
      },
      "source": [
        "16. Найдите самый близкий элемент к данному рандомному числу в векторе? (★★☆)\n",
        "\n",
        "(hint: argmin)"
      ]
    },
    {
      "cell_type": "code",
      "execution_count": 42,
      "metadata": {
        "id": "89qRlKiw7-6D"
      },
      "outputs": [
        {
          "name": "stdout",
          "output_type": "stream",
          "text": [
            "33\n"
          ]
        }
      ],
      "source": [
        "z = np.arange(100)\n",
        "v = np.random.uniform(0,100)\n",
        "index = np.argmin(np.abs(z - v))\n",
        "print(z[index])"
      ]
    },
    {
      "cell_type": "markdown",
      "metadata": {
        "id": "36WBkhF-7-6D"
      },
      "source": [
        "17. Посчитать среднее для каждой строки матрицы (★★☆)"
      ]
    },
    {
      "cell_type": "code",
      "execution_count": 43,
      "metadata": {
        "id": "GnLZw8aJ7-6D"
      },
      "outputs": [
        {
          "name": "stdout",
          "output_type": "stream",
          "text": [
            "[[62 99 51 31 57]\n",
            " [51 15 53 22 89]\n",
            " [72 44 47 40 82]\n",
            " [43 27  7 85 26]\n",
            " [59 71 39 42  0]]\n",
            "[60.  46.  57.  37.6 42.2]\n"
          ]
        }
      ],
      "source": [
        "input = np.random.randint(100, size=(5, 5))\n",
        "print(input)\n",
        "print(np.mean(input[:, :5], axis=1))"
      ]
    },
    {
      "cell_type": "markdown",
      "metadata": {
        "id": "uh0PaELi7-6D"
      },
      "source": [
        "18. Посчитать среднее со скользящим окном над массивом (★★★)\n",
        "\n",
        "(hint: np.cumsum)"
      ]
    },
    {
      "cell_type": "code",
      "execution_count": 44,
      "metadata": {
        "id": "G1FMXEzw7-6D"
      },
      "outputs": [
        {
          "name": "stdout",
          "output_type": "stream",
          "text": [
            "[20 62 12 51  9 11  7 68 47  3]\n"
          ]
        },
        {
          "data": {
            "text/plain": [
              "array([31.33333333, 41.66666667, 24.        , 23.66666667,  9.        ,\n",
              "       28.66666667, 40.66666667, 39.33333333])"
            ]
          },
          "execution_count": 44,
          "metadata": {},
          "output_type": "execute_result"
        }
      ],
      "source": [
        "input = np.random.randint(100, size=10)\n",
        "size = 3\n",
        "print(input)\n",
        "\n",
        "cumsum = np.cumsum(np.insert(input, 0, 0)) \n",
        "output = (cumsum[size:] - cumsum[:-size]) / float(size)\n",
        "output\n"
      ]
    },
    {
      "cell_type": "markdown",
      "metadata": {
        "id": "hjyrzC-K7-6E"
      },
      "source": [
        "# Regular expressions\n",
        "\n",
        "* Cупер статья на все времена. Особенно понятно все про такие сложные штуки как lookaround. \n",
        "\n",
        "https://habr.com/ru/post/349860/\n",
        "\n",
        "\n",
        "* Задания на регулярки\n",
        "\n",
        "https://regexone.com/\n",
        "\n",
        "* На этом сайте удобно тестировать регулярку, которую мучаешь, можно написать несколько примеров и тестировать на них. Важно не забывать выбирать Python:\n",
        "\n",
        "https://regex101.com/"
      ]
    },
    {
      "cell_type": "markdown",
      "metadata": {
        "id": "Qyr-_5kN7-6E"
      },
      "source": [
        "1. Из строки в файле data/rejson.txt вытащить хэш. Пример:\n",
        "\n",
        "'master_guid': '<b>233880bb4c50d247f84edc9cac9e6e29</b>_2308194320'"
      ]
    },
    {
      "cell_type": "code",
      "execution_count": 45,
      "metadata": {
        "id": "snI9_pDw7-6E"
      },
      "outputs": [
        {
          "data": {
            "text/plain": [
              "'233880bb4c50d247f84edc9cac9e6e29'"
            ]
          },
          "execution_count": 45,
          "metadata": {},
          "output_type": "execute_result"
        }
      ],
      "source": [
        "import re\n",
        "\n",
        "file = open(\"data/rejson.txt\", \"r\")\n",
        "text_json = file.read()\n",
        "file.close()\n",
        "\n",
        "obj = json.loads(text_json)\n",
        "master_guid = obj.get(\"master_guid\")\n",
        "hash = re.split('[_]', master_guid, maxsplit=1)[0]\n",
        "hash"
      ]
    },
    {
      "cell_type": "markdown",
      "metadata": {
        "id": "LvMyVVti7-6E"
      },
      "source": [
        "# Pandas"
      ]
    },
    {
      "cell_type": "markdown",
      "metadata": {
        "id": "1phjMjs87-6E"
      },
      "source": [
        "* Pandas в картинках\n",
        "\n",
        "https://jalammar.github.io/gentle-visual-intro-to-data-analysis-python-pandas/\n",
        "\n",
        "* 10 minutes to pandas\n",
        "\n",
        "https://pandas.pydata.org/pandas-docs/stable/getting_started/10min.html\n",
        "\n",
        "* 🐼реально классный твиттер чувака с крутыми pandas tricks:\n",
        "    \n",
        "https://mobile.twitter.com/i/moments/1158828895547854849"
      ]
    }
  ],
  "metadata": {
    "colab": {
      "collapsed_sections": [
        "L-rqo8bV7-59",
        "PGAVDzpv7-6A"
      ],
      "provenance": []
    },
    "kernelspec": {
      "display_name": "Python 3.10.5 64-bit",
      "language": "python",
      "name": "python3"
    },
    "language_info": {
      "codemirror_mode": {
        "name": "ipython",
        "version": 3
      },
      "file_extension": ".py",
      "mimetype": "text/x-python",
      "name": "python",
      "nbconvert_exporter": "python",
      "pygments_lexer": "ipython3",
      "version": "3.10.5"
    },
    "vscode": {
      "interpreter": {
        "hash": "e7d4d1fdefab968d87dae697830712be305784682ed311731942beb8000e292d"
      }
    }
  },
  "nbformat": 4,
  "nbformat_minor": 0
}
